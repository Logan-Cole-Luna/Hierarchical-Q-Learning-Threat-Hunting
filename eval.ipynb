{
 "cells": [
  {
   "cell_type": "code",
   "execution_count": 109,
   "metadata": {
    "execution": {
     "iopub.execute_input": "2023-11-28T14:02:32.160691Z",
     "iopub.status.busy": "2023-11-28T14:02:32.159081Z",
     "iopub.status.idle": "2023-11-28T14:02:32.29158Z",
     "shell.execute_reply": "2023-11-28T14:02:32.290112Z",
     "shell.execute_reply.started": "2023-11-28T14:02:32.160631Z"
    },
    "trusted": true
   },
   "outputs": [],
   "source": [
    "import json\n",
    "import numpy as np\n",
    "import pandas as pd\n",
    "from keras.models import model_from_json\n",
    "import matplotlib.pyplot as plt\n",
    "\n",
    "import itertools\n",
    "from sklearn.metrics import f1_score\n",
    "from sklearn.metrics import accuracy_score, precision_score, recall_score\n",
    "from sklearn.metrics import  confusion_matrix\n",
    "import gym\n",
    "\n",
    "label_col = 'Label'  # Define the label column name"
   ]
  },
  {
   "cell_type": "code",
   "execution_count": 110,
   "metadata": {},
   "outputs": [],
   "source": [
    "class data_cls:\n",
    "    def __init__(self, train_test, attack_map, **kwargs):\n",
    "        self.train_test = train_test\n",
    "        \n",
    "        if self.train_test == 'train':\n",
    "            self.train_path = \"processed_data/train_df_subset.csv\"\n",
    "        else:\n",
    "            self.test_path = \"processed_data/train_df_subset.csv\"\n",
    "\n",
    "        self.attack_map =   attack_map \n",
    "        self.attack_types = list(attack_map.keys())\n",
    "        \n",
    "        self.loaded = False\n",
    "    \n",
    "    def get_batch(self, batch_size=100):\n",
    "        if not self.loaded:\n",
    "            self._load_df()\n",
    "        \n",
    "        # Ensure batch_size does not exceed the DataFrame size\n",
    "        if batch_size > self.data_shape[0]:\n",
    "            raise ValueError(f\"batch_size ({batch_size}) cannot be larger than the dataset size ({self.data_shape[0]}).\")\n",
    "        \n",
    "        # Calculate wrapped indices using modulo\n",
    "        indexes = [(self.index + i) % self.data_shape[0] for i in range(batch_size)]\n",
    "        \n",
    "        # Update the index for the next batch\n",
    "        self.index = (self.index + batch_size) % self.data_shape[0]\n",
    "        \n",
    "        # Select the batch using iloc with valid indices\n",
    "        batch = self.df.iloc[indexes]\n",
    "        \n",
    "        map_type = pd.Series(index=self.attack_types, data=np.arange(len(self.attack_types))).to_dict()\n",
    "        labels = batch[label_col].map(self.attack_map).map(map_type).values\n",
    "        del batch[label_col]\n",
    "        \n",
    "        return np.array(batch), labels\n",
    "    \n",
    "    def get_full(self):\n",
    "\n",
    "        self._load_df()\n",
    "        \n",
    "        batch = self.df\n",
    "        map_type = pd.Series(index=self.attack_types,data=np.arange(len(self.attack_types))).to_dict()\n",
    "        labels = batch[label_col].map(self.attack_map).map(map_type).values\n",
    "        \n",
    "        del(batch[label_col])\n",
    "        \n",
    "        return np.array(batch), labels\n",
    "    \n",
    "    def get_shape(self):\n",
    "        if self.loaded is False:\n",
    "            self._load_df()\n",
    "        \n",
    "        self.data_shape = self.df.shape\n",
    "        return self.data_shape\n",
    "    \n",
    "    def _load_df(self):\n",
    "        if self.train_test == 'train':\n",
    "            self.df = pd.read_csv(self.train_path) \n",
    "        else:\n",
    "            self.df = pd.read_csv(self.test_path)\n",
    "            \n",
    "        self.index=np.random.randint(0,self.df.shape[0]-1,dtype=np.int32)\n",
    "        self.loaded = True"
   ]
  },
  {
   "cell_type": "code",
   "execution_count": 111,
   "metadata": {},
   "outputs": [],
   "source": [
    "from gym import  spaces\n",
    "import gym\n",
    "\n",
    "class NetworkClassificationEnv(gym.Env, data_cls):\n",
    "    def __init__(self,train_test, attack_map, **kwargs):\n",
    "        data_cls.__init__(self,train_test, attack_map,**kwargs)\n",
    "        self.data_shape = self.get_shape()\n",
    "        self.batch_size = kwargs.get('batch_size', 1) \n",
    "        self.fails_episode = kwargs.get('fails_episode', 10) \n",
    "        \n",
    "        # Gym spaces\n",
    "        self.action_space = spaces.Discrete(len(self.attack_types))\n",
    "        self.observation_space = spaces.Discrete(self.data_shape[0])\n",
    "        \n",
    "        self.observation_len = self.data_shape[1]-1\n",
    "        \n",
    "        self.counter = 0\n",
    "\n",
    "    def _update_state(self):\n",
    "        self.states,self.labels = self.get_batch(self.batch_size)\n",
    "        \n",
    "\n",
    "    def reset(self):\n",
    "        self.states,self.labels = self.get_batch(self.batch_size)\n",
    "        self.counter = 0\n",
    "        \n",
    "        return self.states\n",
    "    \n",
    "    def _get_rewards(self,actions):\n",
    "        self.reward = 0\n",
    "        if actions == self.labels:\n",
    "            self.reward = 1\n",
    "        else: \n",
    "            self.counter += 1\n",
    "\n",
    "    def step(self,actions):\n",
    "        self._get_rewards(actions)\n",
    "            \n",
    "        self._update_state()\n",
    "\n",
    "        if self.counter >= self.fails_episode:\n",
    "            self.done = True\n",
    "        else:\n",
    "            self.done = False\n",
    "            \n",
    "        return self.states, self.reward, self.done\n",
    "    "
   ]
  },
  {
   "cell_type": "code",
   "execution_count": 112,
   "metadata": {},
   "outputs": [],
   "source": [
    "import tensorflow as tf\n",
    "\n",
    "def huber_loss(y_true, y_pred, clip_value=1.0):\n",
    "    error = y_true - y_pred\n",
    "    is_small_error = tf.abs(error) < clip_value\n",
    "    squared_loss = 0.5 * tf.square(error)\n",
    "    linear_loss = clip_value * (tf.abs(error) - 0.5 * clip_value)\n",
    "    return tf.where(is_small_error, squared_loss, linear_loss)\n"
   ]
  },
  {
   "cell_type": "code",
   "execution_count": 113,
   "metadata": {
    "execution": {
     "iopub.execute_input": "2023-11-28T14:02:33.892684Z",
     "iopub.status.busy": "2023-11-28T14:02:33.892087Z",
     "iopub.status.idle": "2023-11-28T14:02:33.906012Z",
     "shell.execute_reply": "2023-11-28T14:02:33.904944Z",
     "shell.execute_reply.started": "2023-11-28T14:02:33.892638Z"
    },
    "trusted": true
   },
   "outputs": [],
   "source": [
    "def plot_confusion_matrix(cm, classes,\n",
    "                          normalize=False,\n",
    "                          title='Confusion matrix',\n",
    "                          cmap=plt.cm.Blues):\n",
    "    \"\"\"\n",
    "    This function prints and plots the confusion matrix.\n",
    "    Normalization can be applied by setting `normalize=True`.\n",
    "    \"\"\"\n",
    "    if normalize:\n",
    "        cm = cm.astype('float') / cm.sum(axis=1)[:, np.newaxis]\n",
    "        print(\"Normalized confusion matrix\")\n",
    "    else:\n",
    "        print('Confusion matrix, without normalization')\n",
    "\n",
    "    print(cm)\n",
    "\n",
    "    plt.imshow(cm, interpolation='nearest', cmap=cmap)\n",
    "    plt.title(title)\n",
    "    plt.colorbar()\n",
    "    tick_marks = np.arange(len(classes))\n",
    "    plt.xticks(tick_marks, classes, rotation=45)\n",
    "    plt.yticks(tick_marks, classes)\n",
    "\n",
    "    fmt = '.2f' if normalize else 'd'\n",
    "    thresh = cm.max() / 2.\n",
    "    for i, j in itertools.product(range(cm.shape[0]), range(cm.shape[1])):\n",
    "        plt.text(j, i, format(cm[i, j], fmt),\n",
    "                 horizontalalignment=\"center\",\n",
    "                 color=\"white\" if cm[i, j] > thresh else \"black\")\n",
    "\n",
    "    plt.tight_layout()\n",
    "    plt.ylabel('True label')\n",
    "    plt.xlabel('Predicted label')\n"
   ]
  },
  {
   "cell_type": "code",
   "execution_count": 114,
   "metadata": {
    "execution": {
     "iopub.execute_input": "2023-11-28T14:02:37.423752Z",
     "iopub.status.busy": "2023-11-28T14:02:37.422774Z",
     "iopub.status.idle": "2023-11-28T14:02:47.379183Z",
     "shell.execute_reply": "2023-11-28T14:02:47.377587Z",
     "shell.execute_reply.started": "2023-11-28T14:02:37.423694Z"
    },
    "trusted": true
   },
   "outputs": [
    {
     "name": "stderr",
     "output_type": "stream",
     "text": [
      "C:\\Users\\Logan\\AppData\\Local\\Temp\\ipykernel_5800\\3001808460.py:34: FutureWarning: You are using `torch.load` with `weights_only=False` (the current default value), which uses the default pickle module implicitly. It is possible to construct malicious pickle data which will execute arbitrary code during unpickling (See https://github.com/pytorch/pytorch/blob/main/SECURITY.md#untrusted-models for more details). In a future release, the default value for `weights_only` will be flipped to `True`. This limits the functions that could be executed during unpickling. Arbitrary objects will no longer be allowed to be loaded via this mode unless they are explicitly allowlisted by the user via `torch.serialization.add_safe_globals`. We recommend you start setting `weights_only=True` for any use case where you don't have full control of the loaded file. Please open an issue on GitHub for any issues related to this experimental feature.\n",
      "  model.load_state_dict(torch.load(\"models/DDQN_model.pth\"))\n"
     ]
    },
    {
     "ename": "RuntimeError",
     "evalue": "Error(s) in loading state_dict for QNetwork:\n\tsize mismatch for model.0.weight: copying a param with shape torch.Size([64, 39]) from checkpoint, the shape in current model is torch.Size([64, 79]).",
     "output_type": "error",
     "traceback": [
      "\u001b[1;31m---------------------------------------------------------------------------\u001b[0m",
      "\u001b[1;31mRuntimeError\u001b[0m                              Traceback (most recent call last)",
      "Cell \u001b[1;32mIn[114], line 34\u001b[0m\n\u001b[0;32m     28\u001b[0m model \u001b[38;5;241m=\u001b[39m QNetwork(obs_size\u001b[38;5;241m=\u001b[39menv\u001b[38;5;241m.\u001b[39mobservation_len,  \u001b[38;5;66;03m# Make sure this matches your training\u001b[39;00m\n\u001b[0;32m     29\u001b[0m                 num_actions\u001b[38;5;241m=\u001b[39m\u001b[38;5;28mlen\u001b[39m(env\u001b[38;5;241m.\u001b[39mattack_types),\n\u001b[0;32m     30\u001b[0m                 hidden_dense_layer_dict\u001b[38;5;241m=\u001b[39m{\u001b[38;5;124m\"\u001b[39m\u001b[38;5;124mDense_2\u001b[39m\u001b[38;5;124m\"\u001b[39m: {\u001b[38;5;124m\"\u001b[39m\u001b[38;5;124mSize\u001b[39m\u001b[38;5;124m\"\u001b[39m: \u001b[38;5;241m64\u001b[39m},\n\u001b[0;32m     31\u001b[0m                                        \u001b[38;5;124m\"\u001b[39m\u001b[38;5;124mDense_3\u001b[39m\u001b[38;5;124m\"\u001b[39m: {\u001b[38;5;124m\"\u001b[39m\u001b[38;5;124mSize\u001b[39m\u001b[38;5;124m\"\u001b[39m: \u001b[38;5;241m32\u001b[39m}})\n\u001b[0;32m     33\u001b[0m \u001b[38;5;66;03m# Load the saved weights\u001b[39;00m\n\u001b[1;32m---> 34\u001b[0m \u001b[43mmodel\u001b[49m\u001b[38;5;241;43m.\u001b[39;49m\u001b[43mload_state_dict\u001b[49m\u001b[43m(\u001b[49m\u001b[43mtorch\u001b[49m\u001b[38;5;241;43m.\u001b[39;49m\u001b[43mload\u001b[49m\u001b[43m(\u001b[49m\u001b[38;5;124;43m\"\u001b[39;49m\u001b[38;5;124;43mmodels/DDQN_model.pth\u001b[39;49m\u001b[38;5;124;43m\"\u001b[39;49m\u001b[43m)\u001b[49m\u001b[43m)\u001b[49m\n\u001b[0;32m     35\u001b[0m model\u001b[38;5;241m.\u001b[39meval()  \u001b[38;5;66;03m# Set to evaluation mode\u001b[39;00m\n",
      "File \u001b[1;32mb:\\VSCode\\Hierarchical-Q-Learning-Threat-Hunting\\.conda\\Lib\\site-packages\\torch\\nn\\modules\\module.py:2584\u001b[0m, in \u001b[0;36mModule.load_state_dict\u001b[1;34m(self, state_dict, strict, assign)\u001b[0m\n\u001b[0;32m   2576\u001b[0m         error_msgs\u001b[38;5;241m.\u001b[39minsert(\n\u001b[0;32m   2577\u001b[0m             \u001b[38;5;241m0\u001b[39m,\n\u001b[0;32m   2578\u001b[0m             \u001b[38;5;124m\"\u001b[39m\u001b[38;5;124mMissing key(s) in state_dict: \u001b[39m\u001b[38;5;132;01m{}\u001b[39;00m\u001b[38;5;124m. \u001b[39m\u001b[38;5;124m\"\u001b[39m\u001b[38;5;241m.\u001b[39mformat(\n\u001b[0;32m   2579\u001b[0m                 \u001b[38;5;124m\"\u001b[39m\u001b[38;5;124m, \u001b[39m\u001b[38;5;124m\"\u001b[39m\u001b[38;5;241m.\u001b[39mjoin(\u001b[38;5;124mf\u001b[39m\u001b[38;5;124m'\u001b[39m\u001b[38;5;124m\"\u001b[39m\u001b[38;5;132;01m{\u001b[39;00mk\u001b[38;5;132;01m}\u001b[39;00m\u001b[38;5;124m\"\u001b[39m\u001b[38;5;124m'\u001b[39m \u001b[38;5;28;01mfor\u001b[39;00m k \u001b[38;5;129;01min\u001b[39;00m missing_keys)\n\u001b[0;32m   2580\u001b[0m             ),\n\u001b[0;32m   2581\u001b[0m         )\n\u001b[0;32m   2583\u001b[0m \u001b[38;5;28;01mif\u001b[39;00m \u001b[38;5;28mlen\u001b[39m(error_msgs) \u001b[38;5;241m>\u001b[39m \u001b[38;5;241m0\u001b[39m:\n\u001b[1;32m-> 2584\u001b[0m     \u001b[38;5;28;01mraise\u001b[39;00m \u001b[38;5;167;01mRuntimeError\u001b[39;00m(\n\u001b[0;32m   2585\u001b[0m         \u001b[38;5;124m\"\u001b[39m\u001b[38;5;124mError(s) in loading state_dict for \u001b[39m\u001b[38;5;132;01m{}\u001b[39;00m\u001b[38;5;124m:\u001b[39m\u001b[38;5;130;01m\\n\u001b[39;00m\u001b[38;5;130;01m\\t\u001b[39;00m\u001b[38;5;132;01m{}\u001b[39;00m\u001b[38;5;124m\"\u001b[39m\u001b[38;5;241m.\u001b[39mformat(\n\u001b[0;32m   2586\u001b[0m             \u001b[38;5;28mself\u001b[39m\u001b[38;5;241m.\u001b[39m\u001b[38;5;18m__class__\u001b[39m\u001b[38;5;241m.\u001b[39m\u001b[38;5;18m__name__\u001b[39m, \u001b[38;5;124m\"\u001b[39m\u001b[38;5;130;01m\\n\u001b[39;00m\u001b[38;5;130;01m\\t\u001b[39;00m\u001b[38;5;124m\"\u001b[39m\u001b[38;5;241m.\u001b[39mjoin(error_msgs)\n\u001b[0;32m   2587\u001b[0m         )\n\u001b[0;32m   2588\u001b[0m     )\n\u001b[0;32m   2589\u001b[0m \u001b[38;5;28;01mreturn\u001b[39;00m _IncompatibleKeys(missing_keys, unexpected_keys)\n",
      "\u001b[1;31mRuntimeError\u001b[0m: Error(s) in loading state_dict for QNetwork:\n\tsize mismatch for model.0.weight: copying a param with shape torch.Size([64, 39]) from checkpoint, the shape in current model is torch.Size([64, 79])."
     ]
    }
   ],
   "source": [
    "import torch\n",
    "import torch.nn as nn\n",
    "\n",
    "class QNetwork(nn.Module):\n",
    "    def __init__(self, obs_size, num_actions, hidden_dense_layer_dict={\"Dense_1\": {\"Size\": 100}}, learning_rate=0.001):\n",
    "        super(QNetwork, self).__init__()\n",
    "        layers = []\n",
    "        input_size = obs_size\n",
    "        for key, value in hidden_dense_layer_dict.items():\n",
    "            layers.append(nn.Linear(input_size, value[\"Size\"]))\n",
    "            layers.append(nn.ReLU())\n",
    "            input_size = value[\"Size\"]\n",
    "        layers.append(nn.Linear(input_size, num_actions))\n",
    "        self.model = nn.Sequential(*layers)\n",
    "        self.learning_rate = learning_rate\n",
    "    \n",
    "    def forward(self, x):\n",
    "        return self.model(x)\n",
    "\n",
    "with open('label_dict.json') as json_file:\n",
    "    label_dict = json.load(json_file)\n",
    "\n",
    "label_dict\n",
    "\n",
    "env = NetworkClassificationEnv('test', label_dict) \n",
    "\n",
    "# Initialize the model architecture\n",
    "model = QNetwork(obs_size=env.observation_len,  # Make sure this matches your training\n",
    "                num_actions=len(env.attack_types),\n",
    "                hidden_dense_layer_dict={\"Dense_2\": {\"Size\": 64},\n",
    "                                       \"Dense_3\": {\"Size\": 32}})\n",
    "\n",
    "# Load the saved weights\n",
    "model.load_state_dict(torch.load(\"models/DDQN_model.pth\"))\n",
    "model.eval()  # Set to evaluation mode\n",
    "\n",
    "\n"
   ]
  },
  {
   "cell_type": "code",
   "execution_count": null,
   "metadata": {
    "execution": {
     "iopub.execute_input": "2023-11-28T14:02:47.383534Z",
     "iopub.status.busy": "2023-11-28T14:02:47.382624Z",
     "iopub.status.idle": "2023-11-28T14:04:19.474724Z",
     "shell.execute_reply": "2023-11-28T14:04:19.473562Z",
     "shell.execute_reply.started": "2023-11-28T14:02:47.383478Z"
    },
    "trusted": true
   },
   "outputs": [
    {
     "name": "stdout",
     "output_type": "stream",
     "text": [
      "\n",
      "Total reward: 23 | Number of samples: 400 | Accuracy = 5.75%\n"
     ]
    }
   ],
   "source": [
    "# ...existing code...\n",
    "\n",
    "# Replace the prediction section with PyTorch style inference:\n",
    "total_reward = 0\n",
    "    \n",
    "true_labels = np.zeros(len(env.attack_types),dtype=int)\n",
    "estimated_labels = np.zeros(len(env.attack_types),dtype=int)\n",
    "estimated_correct_labels = np.zeros(len(env.attack_types),dtype=int)\n",
    "\n",
    "states, labels = env.get_full()\n",
    "\n",
    "# Convert states to PyTorch tensor and get predictions\n",
    "with torch.no_grad():  # Disable gradient computation for inference\n",
    "    states_tensor = torch.FloatTensor(states)\n",
    "    q = model(states_tensor)  # Use model directly instead of predict\n",
    "    q = q.numpy()  # Convert back to numpy for argmax\n",
    "\n",
    "actions = np.argmax(q, axis=1)        \n",
    "\n",
    "\n",
    "labs, true_labels = np.unique(labels, return_counts=True)\n",
    "\n",
    "for indx,a in enumerate(actions):\n",
    "    estimated_labels[a] +=1              \n",
    "    if a == labels[indx]:\n",
    "        total_reward += 1\n",
    "        estimated_correct_labels[a] += 1\n",
    "\n",
    "\n",
    "Accuracy = estimated_correct_labels / true_labels\n",
    "Mismatch = estimated_labels - true_labels\n",
    "\n",
    "print('\\r\\nTotal reward: {} | Number of samples: {} | Accuracy = {}%'.format(total_reward,\n",
    "      len(states),float(100*total_reward/len(states))))\n",
    "outputs_df = pd.DataFrame(index = env.attack_types,columns = [\"Estimated\",\"Correct\",\"Total\",\"Acuracy\"])\n",
    "for indx,att in enumerate(env.attack_types):\n",
    "    outputs_df.iloc[indx].Estimated = estimated_labels[indx]\n",
    "    outputs_df.iloc[indx].Correct = estimated_correct_labels[indx]\n",
    "    outputs_df.iloc[indx].Total = true_labels[indx]\n",
    "    outputs_df.iloc[indx].Acuracy = Accuracy[indx]*100\n",
    "    outputs_df.iloc[indx].Mismatch = abs(Mismatch[indx])"
   ]
  },
  {
   "cell_type": "code",
   "execution_count": null,
   "metadata": {
    "execution": {
     "iopub.execute_input": "2023-11-28T14:04:19.477484Z",
     "iopub.status.busy": "2023-11-28T14:04:19.476285Z",
     "iopub.status.idle": "2023-11-28T14:04:19.499547Z",
     "shell.execute_reply": "2023-11-28T14:04:19.497863Z",
     "shell.execute_reply.started": "2023-11-28T14:04:19.477418Z"
    },
    "trusted": true
   },
   "outputs": [
    {
     "data": {
      "text/html": [
       "<div>\n",
       "<style scoped>\n",
       "    .dataframe tbody tr th:only-of-type {\n",
       "        vertical-align: middle;\n",
       "    }\n",
       "\n",
       "    .dataframe tbody tr th {\n",
       "        vertical-align: top;\n",
       "    }\n",
       "\n",
       "    .dataframe thead th {\n",
       "        text-align: right;\n",
       "    }\n",
       "</style>\n",
       "<table border=\"1\" class=\"dataframe\">\n",
       "  <thead>\n",
       "    <tr style=\"text-align: right;\">\n",
       "      <th></th>\n",
       "      <th>Estimated</th>\n",
       "      <th>Correct</th>\n",
       "      <th>Total</th>\n",
       "      <th>Acuracy</th>\n",
       "    </tr>\n",
       "  </thead>\n",
       "  <tbody>\n",
       "    <tr>\n",
       "      <th>Benign</th>\n",
       "      <td>0</td>\n",
       "      <td>0</td>\n",
       "      <td>200</td>\n",
       "      <td>0.0</td>\n",
       "    </tr>\n",
       "    <tr>\n",
       "      <th>Botnet</th>\n",
       "      <td>0</td>\n",
       "      <td>0</td>\n",
       "      <td>20</td>\n",
       "      <td>0.0</td>\n",
       "    </tr>\n",
       "    <tr>\n",
       "      <th>Brute-force</th>\n",
       "      <td>353</td>\n",
       "      <td>20</td>\n",
       "      <td>20</td>\n",
       "      <td>100.0</td>\n",
       "    </tr>\n",
       "    <tr>\n",
       "      <th>DDoS attack</th>\n",
       "      <td>0</td>\n",
       "      <td>0</td>\n",
       "      <td>40</td>\n",
       "      <td>0.0</td>\n",
       "    </tr>\n",
       "    <tr>\n",
       "      <th>DoS attack</th>\n",
       "      <td>47</td>\n",
       "      <td>3</td>\n",
       "      <td>40</td>\n",
       "      <td>7.5</td>\n",
       "    </tr>\n",
       "    <tr>\n",
       "      <th>Infilteration</th>\n",
       "      <td>0</td>\n",
       "      <td>0</td>\n",
       "      <td>40</td>\n",
       "      <td>0.0</td>\n",
       "    </tr>\n",
       "    <tr>\n",
       "      <th>Web attack</th>\n",
       "      <td>0</td>\n",
       "      <td>0</td>\n",
       "      <td>40</td>\n",
       "      <td>0.0</td>\n",
       "    </tr>\n",
       "  </tbody>\n",
       "</table>\n",
       "</div>"
      ],
      "text/plain": [
       "              Estimated Correct Total Acuracy\n",
       "Benign                0       0   200     0.0\n",
       "Botnet                0       0    20     0.0\n",
       "Brute-force         353      20    20   100.0\n",
       "DDoS attack           0       0    40     0.0\n",
       "DoS attack           47       3    40     7.5\n",
       "Infilteration         0       0    40     0.0\n",
       "Web attack            0       0    40     0.0"
      ]
     },
     "execution_count": 99,
     "metadata": {},
     "output_type": "execute_result"
    }
   ],
   "source": [
    "outputs_df"
   ]
  },
  {
   "cell_type": "code",
   "execution_count": null,
   "metadata": {
    "execution": {
     "iopub.execute_input": "2023-11-28T14:04:50.950266Z",
     "iopub.status.busy": "2023-11-28T14:04:50.949486Z",
     "iopub.status.idle": "2023-11-28T14:04:51.413369Z",
     "shell.execute_reply": "2023-11-28T14:04:51.412151Z",
     "shell.execute_reply.started": "2023-11-28T14:04:50.950205Z"
    },
    "trusted": true
   },
   "outputs": [
    {
     "data": {
      "image/png": "[encoded data removed]",
      "text/plain": [
       "<Figure size 640x480 with 1 Axes>"
      ]
     },
     "metadata": {},
     "output_type": "display_data"
    },
    {
     "data": {
      "text/plain": [
       "<Figure size 640x480 with 0 Axes>"
      ]
     },
     "metadata": {},
     "output_type": "display_data"
    }
   ],
   "source": [
    "fig, ax = plt.subplots()\n",
    "width = 0.35\n",
    "pos = np.arange(len(true_labels))\n",
    "p1 = plt.bar(pos, estimated_correct_labels,width,color='g')\n",
    "p1 = plt.bar(pos+width,\n",
    "             (np.abs(estimated_correct_labels-true_labels)),width,\n",
    "             color='r')\n",
    "p2 = plt.bar(pos+width,np.abs(estimated_labels-estimated_correct_labels),width,\n",
    "             bottom=(np.abs(estimated_correct_labels-true_labels)),\n",
    "             color='b')\n",
    "\n",
    "\n",
    "ax.set_xticks(pos+width/2)\n",
    "ax.set_xticklabels(env.attack_types,rotation='vertical')\n",
    "\n",
    "ax.set_title('Test set scores, Acc = {:.2f}'.format(100*total_reward/len(states)))\n",
    "plt.legend(('Correct estimated','False negative','False positive'))\n",
    "plt.tight_layout()\n",
    "plt.show()\n",
    "plt.savefig('results/ADFA_DDQN.svg', format='svg', dpi=1000)\n"
   ]
  },
  {
   "cell_type": "code",
   "execution_count": null,
   "metadata": {
    "execution": {
     "iopub.execute_input": "2023-11-28T14:04:51.891211Z",
     "iopub.status.busy": "2023-11-28T14:04:51.890383Z",
     "iopub.status.idle": "2023-11-28T14:04:57.35102Z",
     "shell.execute_reply": "2023-11-28T14:04:57.349664Z",
     "shell.execute_reply.started": "2023-11-28T14:04:51.89117Z"
    },
    "trusted": true
   },
   "outputs": [
    {
     "name": "stdout",
     "output_type": "stream",
     "text": [
      "Performance measures on Test data\n",
      "Accuracy =  0.0575\n",
      "F1 =  0.0123\n",
      "Precision_score =  0.0092\n",
      "recall_score =  0.0575\n",
      "Normalized confusion matrix\n",
      "[[0.   0.   0.81 0.   0.19 0.   0.  ]\n",
      " [0.   0.   1.   0.   0.   0.   0.  ]\n",
      " [0.   0.   1.   0.   0.   0.   0.  ]\n",
      " [0.   0.   1.   0.   0.   0.   0.  ]\n",
      " [0.   0.   0.93 0.   0.07 0.   0.  ]\n",
      " [0.   0.   0.88 0.   0.12 0.   0.  ]\n",
      " [0.   0.   0.97 0.   0.03 0.   0.  ]]\n"
     ]
    },
    {
     "name": "stderr",
     "output_type": "stream",
     "text": [
      "b:\\VSCode\\Hierarchical-Q-Learning-Threat-Hunting\\.conda\\Lib\\site-packages\\sklearn\\metrics\\_classification.py:1531: UndefinedMetricWarning: Precision is ill-defined and being set to 0.0 in labels with no predicted samples. Use `zero_division` parameter to control this behavior.\n",
      "  _warn_prf(average, modifier, f\"{metric.capitalize()} is\", len(result))\n"
     ]
    },
    {
     "data": {
      "text/plain": [
       "<Figure size 640x480 with 0 Axes>"
      ]
     },
     "metadata": {},
     "output_type": "display_data"
    },
    {
     "data": {
      "image/png": "[encoded data removed]",
      "text/plain": [
       "<Figure size 640x480 with 2 Axes>"
      ]
     },
     "metadata": {},
     "output_type": "display_data"
    }
   ],
   "source": [
    "aggregated_data_test =labels\n",
    "\n",
    "print('Performance measures on Test data')\n",
    "print('Accuracy =  {:.4f}'.format(accuracy_score( aggregated_data_test,actions)))\n",
    "print('F1 =  {:.4f}'.format(f1_score(aggregated_data_test,actions, average='weighted')))\n",
    "print('Precision_score =  {:.4f}'.format(precision_score(aggregated_data_test,actions, average='weighted')))\n",
    "print('recall_score =  {:.4f}'.format(recall_score(aggregated_data_test,actions, average='weighted')))\n",
    "\n",
    "cnf_matrix = confusion_matrix(aggregated_data_test,actions)\n",
    "np.set_printoptions(precision=2)\n",
    "plt.figure()\n",
    "plt.figure()\n",
    "plot_confusion_matrix(cnf_matrix, classes=env.attack_types, normalize=True,\n",
    "                      title='Normalized confusion matrix')\n",
    "plt.savefig('results/confusion_matrix_DDQN_model.svg', format='svg', dpi=1000)"
   ]
  },
  {
   "cell_type": "code",
   "execution_count": null,
   "metadata": {},
   "outputs": [],
   "source": []
  },
  {
   "cell_type": "code",
   "execution_count": null,
   "metadata": {},
   "outputs": [],
   "source": [
    "import pandas as pd\n",
    "train_df = pd.read_csv(\"processed_data/train_df.csv\")\n",
    "test_df = pd.read_csv(\"processed_data/test_df.csv\")\n",
    "\n",
    "with open('processed_data/class_weights.json', 'r') as f:\n",
    "    class_weights = json.load(f)\n",
    "with open('processed_data/label_dict.json', 'r') as f:\n",
    "    label_dict = json.load(f)"
   ]
  }
 ],
 "metadata": {
  "kaggle": {
   "accelerator": "none",
   "dataSources": [
    {
     "datasetId": 902298,
     "sourceId": 1530359,
     "sourceType": "datasetVersion"
    }
   ],
   "dockerImageVersionId": 30587,
   "isGpuEnabled": false,
   "isInternetEnabled": false,
   "language": "python",
   "sourceType": "notebook"
  },
  "kernelspec": {
   "display_name": "Python 3",
   "language": "python",
   "name": "python3"
  },
  "language_info": {
   "codemirror_mode": {
    "name": "ipython",
    "version": 3
   },
   "file_extension": ".py",
   "mimetype": "text/x-python",
   "name": "python",
   "nbconvert_exporter": "python",
   "pygments_lexer": "ipython3",
   "version": "3.11.10"
  }
 },
 "nbformat": 4,
 "nbformat_minor": 4
}
